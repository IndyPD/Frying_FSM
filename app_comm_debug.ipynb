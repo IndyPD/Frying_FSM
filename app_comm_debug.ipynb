{
 "cells": [
  {
   "cell_type": "code",
   "execution_count": 1,
   "id": "a3093f0b-3da0-4a37-8786-3738a09d4273",
   "metadata": {},
   "source": [
    "import sys\n",
    "import signal\n",
    "import time\n",
    "from pkg.recipe import recipe_manager\n",
    "from pkg.utils.blackboard import GlobalBlackboard\n",
    "from pkg.app import modbus_app\n",
    "from pkg.app import grpc_app\n",
    "from pkg.robot import indy_control\n",
    "from pkg.utils.logging import Logger, LogLevel\n",
    "from pkg.utils.file_io import load_json\n",
    "from kyochon_template.fsm import FsmSequence, RobotActionsContext\n",
    "\n",
    "bb = GlobalBlackboard()\n",
    "Logger.set_log_level(LogLevel.DEBUG)\n",
    "app_config = load_json(\"configs/app_config.json\")"
   ],
   "outputs": []
  },
  {
   "cell_type": "code",
   "execution_count": 2,
   "id": "00d07fef-1e25-4ce4-bae5-a9f8466245e6",
   "metadata": {},
   "source": [
    "\n",
    "app = grpc_app.GRPCAppCommunication(run_server=True)\n",
    "\n",
    "app.start()"
   ],
   "outputs": []
  },
  {
   "cell_type": "code",
   "execution_count": 35,
   "id": "ce9f7a0e-1566-4987-9109-582b089ec4a2",
   "metadata": {},
   "source": [
    "bb.set(\"ui/state/work_status\", 2)"
   ],
   "outputs": []
  },
  {
   "cell_type": "code",
   "execution_count": 36,
   "id": "3da8a1d5-d52c-44a7-bd6c-082dfb03cafc",
   "metadata": {},
   "source": [
    "app.stop()"
   ],
   "outputs": []
  },
  {
   "cell_type": "code",
   "execution_count": 25,
   "id": "31c59969-6f05-4782-8ca5-72029edea93f",
   "metadata": {},
   "source": [
    "bb.set(\"ui/state/finish_number\", 11)"
   ],
   "outputs": []
  },
  {
   "cell_type": "code",
   "execution_count": 32,
   "id": "a59716be-039d-41c9-b87f-9a7b683798aa",
   "metadata": {},
   "source": [
    "bb.set(\"ui/state/robot_state\", 3)"
   ],
   "outputs": []
  },
  {
   "cell_type": "code",
   "execution_count": 22,
   "id": "c73135a3-986c-4666-bd40-c85f3a75febf",
   "metadata": {},
   "source": [
    "bb.set(\"ui/state/working_time\", 0)"
   ],
   "outputs": []
  },
  {
   "cell_type": "code",
   "execution_count": 20,
   "id": "6cf23774-685a-400f-9e82-e2f9c1d5205c",
   "metadata": {},
   "source": [
    "bb.set(\"ui/state/working_minute\", 55)"
   ],
   "outputs": []
  }
 ],
 "metadata": {
  "kernelspec": {
   "display_name": "Python 3 (ipykernel)",
   "language": "python",
   "name": "python3"
  },
  "language_info": {
   "codemirror_mode": {
    "name": "ipython",
    "version": 3
   },
   "file_extension": ".py",
   "mimetype": "text/x-python",
   "name": "python",
   "nbconvert_exporter": "python",
   "pygments_lexer": "ipython3",
   "version": "3.8.18"
  }
 },
 "nbformat": 4,
 "nbformat_minor": 5
}
