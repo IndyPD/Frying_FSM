{
 "cells": [
  {
   "cell_type": "code",
   "execution_count": null,
   "id": "a06409de",
   "metadata": {},
   "outputs": [],
   "source": [
    "\n",
    "from neuromeka import IndyDCP3\n",
    "# indy = IndyDCP3(robot_ip='192.168.0.4', index=0)\n",
    "indy = IndyDCP3(robot_ip='192.168.1.10', index=0)\n"
   ]
  },
  {
   "cell_type": "code",
   "execution_count": 28,
   "id": "38115396",
   "metadata": {},
   "outputs": [
    {
     "data": {
      "text/plain": [
       "{}"
      ]
     },
     "execution_count": 28,
     "metadata": {},
     "output_type": "execute_result"
    }
   ],
   "source": [
    "# int 변수 주소 10에 값 20 할당\n",
    "int_variables = [{'addr': 100, 'value': 1}]\n",
    "indy.set_int_variable(int_variables=int_variables)"
   ]
  },
  {
   "cell_type": "markdown",
   "id": "0a77399f",
   "metadata": {},
   "source": []
  },
  {
   "cell_type": "code",
   "execution_count": 2,
   "id": "1ec7c8c3",
   "metadata": {},
   "outputs": [
    {
     "name": "stdout",
     "output_type": "stream",
     "text": [
      "[86.10989, -699.1001, 1242.38, 119.99999, -145.0, 51.259995]\n"
     ]
    }
   ],
   "source": [
    "current_pos = indy.get_control_state()\n",
    "print(current_pos['p'])"
   ]
  },
  {
   "cell_type": "code",
   "execution_count": null,
   "id": "6750afac",
   "metadata": {},
   "outputs": [
    {
     "name": "stdout",
     "output_type": "stream",
     "text": [
      "ssss\n"
     ]
    }
   ],
   "source": [
    "f1_ed = [-332.21637, -59.66437, 1053.3298, -45.918015, -6.4873586, 138.03586]\n",
    "f1_st = [86.10989, -699.1001, 1242.38, 119.99999, -145.0, 51.259995]\n",
    "import time\n",
    "indy.movel(f1_st)\n",
    "time.sleep(10)\n",
    "print('ssss')\n",
    "\n",
    "indy.movel(f1_ed)\n",
    "time.sleep(3)"
   ]
  }
 ],
 "metadata": {
  "kernelspec": {
   "display_name": "nrmk",
   "language": "python",
   "name": "python3"
  },
  "language_info": {
   "codemirror_mode": {
    "name": "ipython",
    "version": 3
   },
   "file_extension": ".py",
   "mimetype": "text/x-python",
   "name": "python",
   "nbconvert_exporter": "python",
   "pygments_lexer": "ipython3",
   "version": "3.9.21"
  }
 },
 "nbformat": 4,
 "nbformat_minor": 5
}
